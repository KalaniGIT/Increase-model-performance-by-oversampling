{
 "cells": [
  {
   "cell_type": "code",
   "execution_count": 1,
   "id": "1d1d1098",
   "metadata": {},
   "outputs": [],
   "source": [
    "import pandas as pd\n",
    "import numpy as np\n",
    "from sklearn.feature_extraction.text import TfidfVectorizer\n",
    "from sklearn.preprocessing import LabelEncoder\n",
    "from sklearn.model_selection import train_test_split\n",
    "from sklearn import model_selection,svm\n",
    "from sklearn.metrics import confusion_matrix,accuracy_score\n",
    "from sklearn.feature_extraction.text import CountVectorizer\n",
    "from sklearn.model_selection import train_test_split\n",
    "from sklearn.metrics import classification_report\n",
    "np.random.seed(100)"
   ]
  },
  {
   "cell_type": "code",
   "execution_count": 2,
   "id": "2f785a47",
   "metadata": {
    "scrolled": true
   },
   "outputs": [
    {
     "data": {
      "text/html": [
       "<div>\n",
       "<style scoped>\n",
       "    .dataframe tbody tr th:only-of-type {\n",
       "        vertical-align: middle;\n",
       "    }\n",
       "\n",
       "    .dataframe tbody tr th {\n",
       "        vertical-align: top;\n",
       "    }\n",
       "\n",
       "    .dataframe thead th {\n",
       "        text-align: right;\n",
       "    }\n",
       "</style>\n",
       "<table border=\"1\" class=\"dataframe\">\n",
       "  <thead>\n",
       "    <tr style=\"text-align: right;\">\n",
       "      <th></th>\n",
       "      <th>Unnamed: 0</th>\n",
       "      <th>Review</th>\n",
       "      <th>Label</th>\n",
       "    </tr>\n",
       "  </thead>\n",
       "  <tbody>\n",
       "    <tr>\n",
       "      <th>0</th>\n",
       "      <td>0</td>\n",
       "      <td>room beyond expect clean everything staff nice...</td>\n",
       "      <td>positive</td>\n",
       "    </tr>\n",
       "    <tr>\n",
       "      <th>1</th>\n",
       "      <td>1</td>\n",
       "      <td>stay extremely comfortable beautiful hotel sur...</td>\n",
       "      <td>positive</td>\n",
       "    </tr>\n",
       "    <tr>\n",
       "      <th>2</th>\n",
       "      <td>2</td>\n",
       "      <td>definitely worth price pay convenient place he...</td>\n",
       "      <td>neutral</td>\n",
       "    </tr>\n",
       "    <tr>\n",
       "      <th>3</th>\n",
       "      <td>3</td>\n",
       "      <td>meals location goodbetter change checkout time...</td>\n",
       "      <td>positive</td>\n",
       "    </tr>\n",
       "    <tr>\n",
       "      <th>4</th>\n",
       "      <td>4</td>\n",
       "      <td>worth money staff helpful friendly im happy se...</td>\n",
       "      <td>positive</td>\n",
       "    </tr>\n",
       "  </tbody>\n",
       "</table>\n",
       "</div>"
      ],
      "text/plain": [
       "   Unnamed: 0                                             Review     Label\n",
       "0           0  room beyond expect clean everything staff nice...  positive\n",
       "1           1  stay extremely comfortable beautiful hotel sur...  positive\n",
       "2           2  definitely worth price pay convenient place he...   neutral\n",
       "3           3  meals location goodbetter change checkout time...  positive\n",
       "4           4  worth money staff helpful friendly im happy se...  positive"
      ]
     },
     "execution_count": 2,
     "metadata": {},
     "output_type": "execute_result"
    }
   ],
   "source": [
    "df0=pd.read_csv(\"D:\\\\LAUNCH MY OWN DATA SCIENCE PROJECTS\\\\reviews_data.csv\")\n",
    "df0.head()"
   ]
  },
  {
   "cell_type": "code",
   "execution_count": 3,
   "id": "f19d9bab",
   "metadata": {},
   "outputs": [
    {
     "data": {
      "text/html": [
       "<div>\n",
       "<style scoped>\n",
       "    .dataframe tbody tr th:only-of-type {\n",
       "        vertical-align: middle;\n",
       "    }\n",
       "\n",
       "    .dataframe tbody tr th {\n",
       "        vertical-align: top;\n",
       "    }\n",
       "\n",
       "    .dataframe thead th {\n",
       "        text-align: right;\n",
       "    }\n",
       "</style>\n",
       "<table border=\"1\" class=\"dataframe\">\n",
       "  <thead>\n",
       "    <tr style=\"text-align: right;\">\n",
       "      <th></th>\n",
       "      <th>Review</th>\n",
       "      <th>Label</th>\n",
       "    </tr>\n",
       "  </thead>\n",
       "  <tbody>\n",
       "    <tr>\n",
       "      <th>0</th>\n",
       "      <td>room beyond expect clean everything staff nice...</td>\n",
       "      <td>positive</td>\n",
       "    </tr>\n",
       "    <tr>\n",
       "      <th>1</th>\n",
       "      <td>stay extremely comfortable beautiful hotel sur...</td>\n",
       "      <td>positive</td>\n",
       "    </tr>\n",
       "    <tr>\n",
       "      <th>2</th>\n",
       "      <td>definitely worth price pay convenient place he...</td>\n",
       "      <td>neutral</td>\n",
       "    </tr>\n",
       "    <tr>\n",
       "      <th>3</th>\n",
       "      <td>meals location goodbetter change checkout time...</td>\n",
       "      <td>positive</td>\n",
       "    </tr>\n",
       "    <tr>\n",
       "      <th>4</th>\n",
       "      <td>worth money staff helpful friendly im happy se...</td>\n",
       "      <td>positive</td>\n",
       "    </tr>\n",
       "  </tbody>\n",
       "</table>\n",
       "</div>"
      ],
      "text/plain": [
       "                                              Review     Label\n",
       "0  room beyond expect clean everything staff nice...  positive\n",
       "1  stay extremely comfortable beautiful hotel sur...  positive\n",
       "2  definitely worth price pay convenient place he...   neutral\n",
       "3  meals location goodbetter change checkout time...  positive\n",
       "4  worth money staff helpful friendly im happy se...  positive"
      ]
     },
     "execution_count": 3,
     "metadata": {},
     "output_type": "execute_result"
    }
   ],
   "source": [
    "df=df0.drop(df0[['Unnamed: 0']],axis='columns')\n",
    "df.head()"
   ]
  },
  {
   "cell_type": "code",
   "execution_count": 4,
   "id": "1a8dffa1",
   "metadata": {},
   "outputs": [],
   "source": [
    "X_train,X_test,y_train,y_test=train_test_split (df['Review'],df['Label'],test_size=0.2,random_state=10)"
   ]
  },
  {
   "cell_type": "code",
   "execution_count": 5,
   "id": "25219192",
   "metadata": {},
   "outputs": [],
   "source": [
    "Encoder = LabelEncoder()\n",
    "y_train = Encoder.fit_transform(y_train)\n",
    "y_test = Encoder.fit_transform(y_test)\n",
    "Tfidf_vect = TfidfVectorizer(max_features=1000)\n",
    "Tfidf_vect.fit(X_train,X_test)\n",
    "Train_X_Tfidf = Tfidf_vect.transform(X_train)\n",
    "Test_X_Tfidf = Tfidf_vect.transform(X_test)"
   ]
  },
  {
   "cell_type": "code",
   "execution_count": 6,
   "id": "384efff7",
   "metadata": {
    "scrolled": true
   },
   "outputs": [
    {
     "name": "stdout",
     "output_type": "stream",
     "text": [
      "              precision    recall  f1-score   support\n",
      "\n",
      "           0       0.00      0.00      0.00         0\n",
      "           1       0.66      0.67      0.66       240\n",
      "           2       0.92      0.83      0.87       606\n",
      "\n",
      "    accuracy                           0.78       846\n",
      "   macro avg       0.53      0.50      0.51       846\n",
      "weighted avg       0.85      0.78      0.81       846\n",
      "\n"
     ]
    },
    {
     "name": "stderr",
     "output_type": "stream",
     "text": [
      "C:\\ProgramData\\Anaconda3\\lib\\site-packages\\sklearn\\metrics\\_classification.py:1245: UndefinedMetricWarning: Recall and F-score are ill-defined and being set to 0.0 in labels with no true samples. Use `zero_division` parameter to control this behavior.\n",
      "  _warn_prf(average, modifier, msg_start, len(result))\n",
      "C:\\ProgramData\\Anaconda3\\lib\\site-packages\\sklearn\\metrics\\_classification.py:1245: UndefinedMetricWarning: Recall and F-score are ill-defined and being set to 0.0 in labels with no true samples. Use `zero_division` parameter to control this behavior.\n",
      "  _warn_prf(average, modifier, msg_start, len(result))\n",
      "C:\\ProgramData\\Anaconda3\\lib\\site-packages\\sklearn\\metrics\\_classification.py:1245: UndefinedMetricWarning: Recall and F-score are ill-defined and being set to 0.0 in labels with no true samples. Use `zero_division` parameter to control this behavior.\n",
      "  _warn_prf(average, modifier, msg_start, len(result))\n"
     ]
    }
   ],
   "source": [
    "SVM = svm.SVC()\n",
    "SVM.fit(Train_X_Tfidf,y_train)\n",
    "predictions_SVM = SVM.predict(Test_X_Tfidf)\n",
    "print(classification_report(predictions_SVM,y_test))"
   ]
  },
  {
   "cell_type": "markdown",
   "id": "40062023",
   "metadata": {},
   "source": [
    "Model hasn't performed well"
   ]
  },
  {
   "cell_type": "code",
   "execution_count": 7,
   "id": "58a8c999",
   "metadata": {},
   "outputs": [
    {
     "data": {
      "text/plain": [
       "<AxesSubplot:ylabel='Label'>"
      ]
     },
     "execution_count": 7,
     "metadata": {},
     "output_type": "execute_result"
    },
    {
     "data": {
      "image/png": "[encoded data removed]",
      "text/plain": [
       "<Figure size 432x288 with 1 Axes>"
      ]
     },
     "metadata": {},
     "output_type": "display_data"
    }
   ],
   "source": [
    "df.Label.value_counts().plot(kind='pie', autopct='%1.0f%%')"
   ]
  },
  {
   "cell_type": "code",
   "execution_count": 8,
   "id": "55c645e6",
   "metadata": {},
   "outputs": [
    {
     "data": {
      "text/plain": [
       "(2698, 1239, 290)"
      ]
     },
     "execution_count": 8,
     "metadata": {},
     "output_type": "execute_result"
    }
   ],
   "source": [
    "class_count_0, class_count_1,class_count_2 = df['Label'].value_counts()\n",
    "class_count_0, class_count_1,class_count_2"
   ]
  },
  {
   "cell_type": "code",
   "execution_count": 9,
   "id": "d236b7f6",
   "metadata": {},
   "outputs": [
    {
     "data": {
      "text/plain": [
       "positive    2698\n",
       "neutral     1239\n",
       "negative     290\n",
       "Name: Label, dtype: int64"
      ]
     },
     "execution_count": 9,
     "metadata": {},
     "output_type": "execute_result"
    }
   ],
   "source": [
    "y=df['Label'].value_counts()\n",
    "y"
   ]
  },
  {
   "cell_type": "code",
   "execution_count": 10,
   "id": "842da4d2",
   "metadata": {},
   "outputs": [
    {
     "data": {
      "text/plain": [
       "(2698, 2)"
      ]
     },
     "execution_count": 10,
     "metadata": {},
     "output_type": "execute_result"
    }
   ],
   "source": [
    "class_0 = df[df['Label']=='positive']\n",
    "class_0.shape"
   ]
  },
  {
   "cell_type": "code",
   "execution_count": 11,
   "id": "dfed1c68",
   "metadata": {},
   "outputs": [
    {
     "data": {
      "text/plain": [
       "(1239, 2)"
      ]
     },
     "execution_count": 11,
     "metadata": {},
     "output_type": "execute_result"
    }
   ],
   "source": [
    "class_1 = df[df['Label']=='neutral']\n",
    "class_1.shape"
   ]
  },
  {
   "cell_type": "code",
   "execution_count": 12,
   "id": "950ed12b",
   "metadata": {},
   "outputs": [
    {
     "data": {
      "text/plain": [
       "(290, 2)"
      ]
     },
     "execution_count": 12,
     "metadata": {},
     "output_type": "execute_result"
    }
   ],
   "source": [
    "class_2=df[df['Label']=='negative']\n",
    "class_2.shape"
   ]
  },
  {
   "cell_type": "code",
   "execution_count": 13,
   "id": "870ca4b1",
   "metadata": {},
   "outputs": [
    {
     "data": {
      "text/plain": [
       "(2698, 2)"
      ]
     },
     "execution_count": 13,
     "metadata": {},
     "output_type": "execute_result"
    }
   ],
   "source": [
    "class_2_over = class_2.sample(class_count_0, replace=True)\n",
    "class_2_over.shape"
   ]
  },
  {
   "cell_type": "code",
   "execution_count": 14,
   "id": "fc8ffc89",
   "metadata": {},
   "outputs": [
    {
     "data": {
      "text/html": [
       "<div>\n",
       "<style scoped>\n",
       "    .dataframe tbody tr th:only-of-type {\n",
       "        vertical-align: middle;\n",
       "    }\n",
       "\n",
       "    .dataframe tbody tr th {\n",
       "        vertical-align: top;\n",
       "    }\n",
       "\n",
       "    .dataframe thead th {\n",
       "        text-align: right;\n",
       "    }\n",
       "</style>\n",
       "<table border=\"1\" class=\"dataframe\">\n",
       "  <thead>\n",
       "    <tr style=\"text-align: right;\">\n",
       "      <th></th>\n",
       "      <th>Review</th>\n",
       "      <th>Label</th>\n",
       "    </tr>\n",
       "  </thead>\n",
       "  <tbody>\n",
       "    <tr>\n",
       "      <th>3925</th>\n",
       "      <td>elevators corridors clean unpleasant</td>\n",
       "      <td>negative</td>\n",
       "    </tr>\n",
       "    <tr>\n",
       "      <th>850</th>\n",
       "      <td>table clothe restaurant clean</td>\n",
       "      <td>negative</td>\n",
       "    </tr>\n",
       "    <tr>\n",
       "      <th>501</th>\n",
       "      <td>food improve food</td>\n",
       "      <td>negative</td>\n",
       "    </tr>\n",
       "  </tbody>\n",
       "</table>\n",
       "</div>"
      ],
      "text/plain": [
       "                                    Review     Label\n",
       "3925  elevators corridors clean unpleasant  negative\n",
       "850          table clothe restaurant clean  negative\n",
       "501                      food improve food  negative"
      ]
     },
     "execution_count": 14,
     "metadata": {},
     "output_type": "execute_result"
    }
   ],
   "source": [
    "test_over = pd.concat([class_2_over, class_0,class_1], axis=0)\n",
    "test_over.head(3)"
   ]
  },
  {
   "cell_type": "code",
   "execution_count": 15,
   "id": "77dcdd6c",
   "metadata": {},
   "outputs": [
    {
     "data": {
      "text/plain": [
       "(2698, 2698, 1239)"
      ]
     },
     "execution_count": 15,
     "metadata": {},
     "output_type": "execute_result"
    }
   ],
   "source": [
    "class_count_0, class_count_1,class_count_2 = test_over['Label'].value_counts()\n",
    "class_count_0, class_count_1,class_count_2"
   ]
  },
  {
   "cell_type": "code",
   "execution_count": 16,
   "id": "0a42202b",
   "metadata": {},
   "outputs": [
    {
     "data": {
      "text/plain": [
       "positive    2698\n",
       "negative    2698\n",
       "neutral     1239\n",
       "Name: Label, dtype: int64"
      ]
     },
     "execution_count": 16,
     "metadata": {},
     "output_type": "execute_result"
    }
   ],
   "source": [
    "y1=test_over['Label'].value_counts()\n",
    "y1"
   ]
  },
  {
   "cell_type": "code",
   "execution_count": 17,
   "id": "1d832468",
   "metadata": {},
   "outputs": [
    {
     "data": {
      "text/plain": [
       "(2698, 2)"
      ]
     },
     "execution_count": 17,
     "metadata": {},
     "output_type": "execute_result"
    }
   ],
   "source": [
    "class_0 = test_over[test_over['Label']=='positive']\n",
    "class_0.shape"
   ]
  },
  {
   "cell_type": "code",
   "execution_count": 18,
   "id": "a871be95",
   "metadata": {},
   "outputs": [
    {
     "data": {
      "text/plain": [
       "(1239, 2)"
      ]
     },
     "execution_count": 18,
     "metadata": {},
     "output_type": "execute_result"
    }
   ],
   "source": [
    "class_1 = test_over[test_over['Label']=='neutral']\n",
    "class_1.shape"
   ]
  },
  {
   "cell_type": "code",
   "execution_count": 19,
   "id": "8d06de06",
   "metadata": {},
   "outputs": [
    {
     "data": {
      "text/plain": [
       "(2698, 2)"
      ]
     },
     "execution_count": 19,
     "metadata": {},
     "output_type": "execute_result"
    }
   ],
   "source": [
    "class_2 = test_over[test_over['Label']=='negative']\n",
    "class_2.shape"
   ]
  },
  {
   "cell_type": "code",
   "execution_count": 20,
   "id": "a4392c47",
   "metadata": {},
   "outputs": [
    {
     "data": {
      "text/plain": [
       "(2698, 2)"
      ]
     },
     "execution_count": 20,
     "metadata": {},
     "output_type": "execute_result"
    }
   ],
   "source": [
    "class_1_over = class_1.sample(class_count_0, replace=True)\n",
    "class_1_over.shape"
   ]
  },
  {
   "cell_type": "code",
   "execution_count": 21,
   "id": "31209982",
   "metadata": {},
   "outputs": [
    {
     "data": {
      "text/html": [
       "<div>\n",
       "<style scoped>\n",
       "    .dataframe tbody tr th:only-of-type {\n",
       "        vertical-align: middle;\n",
       "    }\n",
       "\n",
       "    .dataframe tbody tr th {\n",
       "        vertical-align: top;\n",
       "    }\n",
       "\n",
       "    .dataframe thead th {\n",
       "        text-align: right;\n",
       "    }\n",
       "</style>\n",
       "<table border=\"1\" class=\"dataframe\">\n",
       "  <thead>\n",
       "    <tr style=\"text-align: right;\">\n",
       "      <th></th>\n",
       "      <th>Review</th>\n",
       "      <th>Label</th>\n",
       "    </tr>\n",
       "  </thead>\n",
       "  <tbody>\n",
       "    <tr>\n",
       "      <th>2659</th>\n",
       "      <td>first bad impression take us tuk tuk scooter r...</td>\n",
       "      <td>neutral</td>\n",
       "    </tr>\n",
       "    <tr>\n",
       "      <th>3711</th>\n",
       "      <td>stay one night dambulla go train ella location...</td>\n",
       "      <td>neutral</td>\n",
       "    </tr>\n",
       "    <tr>\n",
       "      <th>225</th>\n",
       "      <td>centrally locate close restaurants day activit...</td>\n",
       "      <td>neutral</td>\n",
       "    </tr>\n",
       "    <tr>\n",
       "      <th>714</th>\n",
       "      <td>front guy h replace guy service business also ...</td>\n",
       "      <td>neutral</td>\n",
       "    </tr>\n",
       "    <tr>\n",
       "      <th>1390</th>\n",
       "      <td>tha capsule spacious enough space store luggag...</td>\n",
       "      <td>neutral</td>\n",
       "    </tr>\n",
       "    <tr>\n",
       "      <th>...</th>\n",
       "      <td>...</td>\n",
       "      <td>...</td>\n",
       "    </tr>\n",
       "    <tr>\n",
       "      <th>4000</th>\n",
       "      <td>pool clean view cleanliness basic hotel items ...</td>\n",
       "      <td>negative</td>\n",
       "    </tr>\n",
       "    <tr>\n",
       "      <th>2863</th>\n",
       "      <td>stay rat roof owner lie say pet cat later tell...</td>\n",
       "      <td>negative</td>\n",
       "    </tr>\n",
       "    <tr>\n",
       "      <th>559</th>\n",
       "      <td>av breakfastadjoining room need sort wake nois...</td>\n",
       "      <td>negative</td>\n",
       "    </tr>\n",
       "    <tr>\n",
       "      <th>2380</th>\n",
       "      <td>hotel nice good facilities clean big room top ...</td>\n",
       "      <td>negative</td>\n",
       "    </tr>\n",
       "    <tr>\n",
       "      <th>2868</th>\n",
       "      <td>staff kind hospitable room grind floor relativ...</td>\n",
       "      <td>negative</td>\n",
       "    </tr>\n",
       "  </tbody>\n",
       "</table>\n",
       "<p>8094 rows × 2 columns</p>\n",
       "</div>"
      ],
      "text/plain": [
       "                                                 Review     Label\n",
       "2659  first bad impression take us tuk tuk scooter r...   neutral\n",
       "3711  stay one night dambulla go train ella location...   neutral\n",
       "225   centrally locate close restaurants day activit...   neutral\n",
       "714   front guy h replace guy service business also ...   neutral\n",
       "1390  tha capsule spacious enough space store luggag...   neutral\n",
       "...                                                 ...       ...\n",
       "4000  pool clean view cleanliness basic hotel items ...  negative\n",
       "2863  stay rat roof owner lie say pet cat later tell...  negative\n",
       "559   av breakfastadjoining room need sort wake nois...  negative\n",
       "2380  hotel nice good facilities clean big room top ...  negative\n",
       "2868  staff kind hospitable room grind floor relativ...  negative\n",
       "\n",
       "[8094 rows x 2 columns]"
      ]
     },
     "execution_count": 21,
     "metadata": {},
     "output_type": "execute_result"
    }
   ],
   "source": [
    "test_over_over = pd.concat([class_1_over, class_0,class_2], axis=0)\n",
    "test_over_over"
   ]
  },
  {
   "cell_type": "code",
   "execution_count": 22,
   "id": "12a6458f",
   "metadata": {},
   "outputs": [
    {
     "data": {
      "text/plain": [
       "positive    2698\n",
       "neutral     2698\n",
       "negative    2698\n",
       "Name: Label, dtype: int64"
      ]
     },
     "execution_count": 22,
     "metadata": {},
     "output_type": "execute_result"
    },
    {
     "data": {
      "image/png": "[encoded data removed]",
      "text/plain": [
       "<Figure size 432x288 with 1 Axes>"
      ]
     },
     "metadata": {
      "needs_background": "light"
     },
     "output_type": "display_data"
    }
   ],
   "source": [
    "test_over_over['Label'].value_counts().plot(kind='bar', title='count (target)')\n",
    "test_over_over['Label'].value_counts()"
   ]
  },
  {
   "cell_type": "code",
   "execution_count": 23,
   "id": "19b2f178",
   "metadata": {},
   "outputs": [],
   "source": [
    "X1=test_over_over['Review']\n",
    "y1=test_over_over['Label'] \n",
    "from sklearn.model_selection import train_test_split\n",
    "X_train,X_test,y_train,y_test=train_test_split(X1,y1,test_size=0.2,random_state=10)"
   ]
  },
  {
   "cell_type": "code",
   "execution_count": 24,
   "id": "7863c85e",
   "metadata": {},
   "outputs": [],
   "source": [
    "np.random.seed(100)\n",
    "Encoder = LabelEncoder()\n",
    "y_train = Encoder.fit_transform(y_train)\n",
    "y_test = Encoder.fit_transform(y_test)\n",
    "Tfidf_vect = TfidfVectorizer(max_features=1000)\n",
    "Tfidf_vect.fit(X_train,X_test)\n",
    "Train_X_Tfidf = Tfidf_vect.transform(X_train)\n",
    "Test_X_Tfidf = Tfidf_vect.transform(X_test)"
   ]
  },
  {
   "cell_type": "code",
   "execution_count": 25,
   "id": "eed32b63",
   "metadata": {},
   "outputs": [
    {
     "name": "stdout",
     "output_type": "stream",
     "text": [
      "              precision    recall  f1-score   support\n",
      "\n",
      "           0       1.00      0.98      0.99       531\n",
      "           1       0.95      0.89      0.92       605\n",
      "           2       0.86      0.95      0.90       483\n",
      "\n",
      "    accuracy                           0.94      1619\n",
      "   macro avg       0.94      0.94      0.94      1619\n",
      "weighted avg       0.94      0.94      0.94      1619\n",
      "\n"
     ]
    }
   ],
   "source": [
    "SVM = svm.SVC()\n",
    "SVM.fit(Train_X_Tfidf,y_train)\n",
    "predictions_SVM = SVM.predict(Test_X_Tfidf)\n",
    "print(classification_report(predictions_SVM,y_test))"
   ]
  },
  {
   "cell_type": "markdown",
   "id": "7adcd3f3",
   "metadata": {},
   "source": [
    "Classification Model performs well after balancing the dataset"
   ]
  },
  {
   "cell_type": "code",
   "execution_count": null,
   "id": "00da3119",
   "metadata": {},
   "outputs": [],
   "source": []
  }
 ],
 "metadata": {
  "kernelspec": {
   "display_name": "Python 3",
   "language": "python",
   "name": "python3"
  },
  "language_info": {
   "codemirror_mode": {
    "name": "ipython",
    "version": 3
   },
   "file_extension": ".py",
   "mimetype": "text/x-python",
   "name": "python",
   "nbconvert_exporter": "python",
   "pygments_lexer": "ipython3",
   "version": "3.8.8"
  }
 },
 "nbformat": 4,
 "nbformat_minor": 5
}
